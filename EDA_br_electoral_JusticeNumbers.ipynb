{
 "cells": [
  {
   "cell_type": "code",
   "execution_count": 1,
   "id": "2e497861",
   "metadata": {},
   "outputs": [],
   "source": [
    "import pandas as pd\n",
    "import numpy as np\n",
    "import matplotlib.pyplot as plt\n",
    "%matplotlib inline\n",
    "import seaborn as sns"
   ]
  },
  {
   "cell_type": "code",
   "execution_count": 2,
   "id": "fda2e073",
   "metadata": {},
   "outputs": [],
   "source": [
    "import warnings\n",
    "warnings.filterwarnings(\"ignore\")"
   ]
  },
  {
   "cell_type": "code",
   "execution_count": 3,
   "id": "e3f63ffe",
   "metadata": {},
   "outputs": [
    {
     "name": "stdout",
     "output_type": "stream",
     "text": [
      "year\n",
      "2020    0.026578\n",
      "2016     0.04002\n",
      "2012         inf\n",
      "2008         NaN\n",
      "2004         NaN\n",
      "2000         0.0\n",
      "Name: pct_change_voters, dtype: Float64\n",
      "      candidates     voters  pct_change_candidates  pct_change_voters\n",
      "year                                                                 \n",
      "2020      557910  147918483               0.122205           0.026578\n",
      "2016      497155  144088912               0.029162            0.04002\n",
      "2012      483068  138544348               0.266409                inf\n",
      "2008      381447          0              -0.050629                NaN\n",
      "2004      401789          0               0.046972                NaN\n",
      "2000      383763          0                   <NA>               <NA>\n"
     ]
    }
   ],
   "source": [
    "# Load CSV files into dataframes and merge them using the Year field as an index\n",
    "candidates = pd.read_csv('sig.tse.jus.br/candidates.csv')\n",
    "candidates.set_index(['year'], inplace=True)\n",
    "voters = pd.read_csv('sig.tse.jus.br/voters.csv')\n",
    "voters.set_index(['year'], inplace=True)\n",
    "election = pd.merge(candidates, voters,  how=\"outer\", on=[\"year\"])\n",
    "\n",
    "# releases the memory allocated to dataframes\n",
    "del[[candidates,voters]]\n",
    "\n",
    "# Convert all fields of type float to integer in the dataframe\n",
    "for col in election.columns:\n",
    "    if election[col].dtype == 'float64':\n",
    "        election[col] = election[col].astype('Int64')\n",
    "\n",
    "# Sort dataframes data in descending order by year        \n",
    "election.sort_values(by=['year'], ascending=False, inplace=True)\n",
    "\n",
    "# Fill NA/NaN values with 0\n",
    "election.fillna(0, inplace=True)\n",
    "\n",
    "#Filters data from the years in which municipal elections took place in Brazil\n",
    "municipal_election = election.filter(items=[2020,2016,2012,2008,2004,2000],axis=0)\n",
    "\n",
    "# calculates the percentage of data changes from year to year\n",
    "# and sorts in descending order by year\n",
    "pct_change_municipal_election = municipal_election.sort_values(by=['year'])\\\n",
    "    .pct_change().sort_values(by=['year'],ascending=False)\\\n",
    "    .rename(columns={\"candidates\": \"pct_change_candidates\", \"voters\": \"pct_change_voters\"})\n",
    "\n",
    "# Includes calculations of percentages of data changes in the municipal elections dataframe\n",
    "municipal_election = municipal_election.merge(pct_change_municipal_election, how=\"outer\", on=[\"year\"])\n",
    "\n",
    "del[[pct_change_municipal_election]]\n",
    "\n",
    "#print(municipal_election['pct_change_voters'].fillna(0))\n",
    "\n",
    "#print(municipal_election)"
   ]
  },
  {
   "cell_type": "code",
   "execution_count": 5,
   "id": "c4c619bd",
   "metadata": {},
   "outputs": [
    {
     "data": {
      "image/png": "[encoded data removed]",
      "text/plain": [
       "<Figure size 864x576 with 1 Axes>"
      ]
     },
     "metadata": {
      "needs_background": "light"
     },
     "output_type": "display_data"
    }
   ],
   "source": [
    "# Defining the plotsize\n",
    "plt.figure(figsize=(12, 8))\n",
    " \n",
    "# Defining the x-axis, the y-axis and the data\n",
    "# from where the values are to be taken\n",
    "splot = sns.barplot(x=municipal_election.index, y=\"candidates\", data=municipal_election)\n",
    "\n",
    "#sns.despine()\n",
    "#sns.set_style('white')\n",
    "\n",
    "# Setting the x-acis label and its size\n",
    "plt.xlabel(\"Ano de Eleição Municipal\", size=15)\n",
    "# changing the fontsize of xticks\n",
    "plt.xticks(fontsize=12)\n",
    "\n",
    "# Setting the y-axis label and its size\n",
    "plt.ylabel(\"Quantidade de Candidaturas\",size=15)\n",
    "# changing the fontsize of yticks\n",
    "plt.yticks(fontsize=12)\n",
    "\n",
    "# displays the data values in the graph\n",
    "splot.bar_label(splot.containers[0],size=12)\n",
    "\n",
    "plt.savefig(\"number_candidates_municipal_elections.jpg\",transparent = False)\n",
    "\n",
    "# print(municipal_election)\n",
    "\n",
    "# plotting the graph\n",
    "plt.show()"
   ]
  },
  {
   "cell_type": "code",
   "execution_count": null,
   "id": "21054846",
   "metadata": {},
   "outputs": [],
   "source": []
  }
 ],
 "metadata": {
  "kernelspec": {
   "display_name": "Python 3 (ipykernel)",
   "language": "python",
   "name": "python3"
  },
  "language_info": {
   "codemirror_mode": {
    "name": "ipython",
    "version": 3
   },
   "file_extension": ".py",
   "mimetype": "text/x-python",
   "name": "python",
   "nbconvert_exporter": "python",
   "pygments_lexer": "ipython3",
   "version": "3.8.13"
  }
 },
 "nbformat": 4,
 "nbformat_minor": 5
}
